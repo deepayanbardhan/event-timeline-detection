{
 "cells": [
  {
   "cell_type": "code",
   "execution_count": 2,
   "metadata": {},
   "outputs": [
    {
     "name": "stderr",
     "output_type": "stream",
     "text": [
      "[nltk_data] Downloading package punkt to\n",
      "[nltk_data]     C:\\Users\\spradha5\\AppData\\Roaming\\nltk_data...\n",
      "[nltk_data]   Package punkt is already up-to-date!\n",
      "[nltk_data] Downloading package stopwords to\n",
      "[nltk_data]     C:\\Users\\spradha5\\AppData\\Roaming\\nltk_data...\n",
      "[nltk_data]   Package stopwords is already up-to-date!\n"
     ]
    }
   ],
   "source": [
    "import spacy\n",
    "import pandas as pd\n",
    "import nltk\n",
    "nltk.download('punkt')\n",
    "nltk.download('stopwords')\n",
    "from nltk.tokenize import word_tokenize\n",
    "from nltk.corpus import stopwords\n",
    "import numpy as np\n",
    "from sklearn.ensemble import RandomForestClassifier\n",
    "from sklearn.svm import LinearSVC"
   ]
  },
  {
   "cell_type": "code",
   "execution_count": 3,
   "metadata": {},
   "outputs": [],
   "source": [
    "nlp = spacy.load('en_core_web_sm')"
   ]
  },
  {
   "cell_type": "code",
   "execution_count": 4,
   "metadata": {},
   "outputs": [],
   "source": [
    "#doc = nlp('This is some text that I')\n",
    "#doc.vector.tolist()"
   ]
  },
  {
   "cell_type": "code",
   "execution_count": 5,
   "metadata": {},
   "outputs": [],
   "source": [
    "#training dataset\n",
    "df = pd.read_csv('P1_training_set.csv')\n",
    "e1 = df['Event 1']\n",
    "e2 = df['Event 2']\n",
    "label = df['Label']"
   ]
  },
  {
   "cell_type": "code",
   "execution_count": 6,
   "metadata": {},
   "outputs": [],
   "source": [
    "def gen_vec(s):\n",
    "    doc = nlp(s)\n",
    "    vec = doc.vector\n",
    "    return vec"
   ]
  },
  {
   "cell_type": "code",
   "execution_count": 7,
   "metadata": {},
   "outputs": [],
   "source": [
    "#training vectors\n",
    "xtrain = []\n",
    "ytrain = []\n",
    "\n",
    "for i in range(e1.size):\n",
    "    s1 = e1.loc[i]\n",
    "    s2 = e2.loc[i]\n",
    "    lab = label.loc[i]\n",
    "    vec1 = gen_vec(s1)\n",
    "    vec2 = gen_vec(s2)\n",
    "    vec = vec1.tolist()+vec2.tolist()\n",
    "    #print(len(vec))\n",
    "    \n",
    "    xtrain.append(vec)\n",
    "    ytrain.append(lab)\n",
    "    \n",
    "xtrain = np.array(xtrain).astype(np.int32)\n",
    "ytrain = np.array(ytrain).astype(np.int32)"
   ]
  },
  {
   "cell_type": "code",
   "execution_count": 8,
   "metadata": {},
   "outputs": [
    {
     "data": {
      "text/plain": [
       "RandomForestClassifier(bootstrap=True, class_weight=None, criterion='gini',\n",
       "                       max_depth=None, max_features='auto', max_leaf_nodes=None,\n",
       "                       min_impurity_decrease=0.0, min_impurity_split=None,\n",
       "                       min_samples_leaf=1, min_samples_split=2,\n",
       "                       min_weight_fraction_leaf=0.0, n_estimators=300,\n",
       "                       n_jobs=-1, oob_score=False, random_state=None, verbose=0,\n",
       "                       warm_start=False)"
      ]
     },
     "execution_count": 8,
     "metadata": {},
     "output_type": "execute_result"
    }
   ],
   "source": [
    "#Random Forrest Training\n",
    "rfc = RandomForestClassifier(n_jobs=-1, n_estimators=300, max_features='auto')\n",
    "rfc.fit(xtrain, ytrain)"
   ]
  },
  {
   "cell_type": "code",
   "execution_count": 13,
   "metadata": {},
   "outputs": [
    {
     "data": {
      "text/plain": [
       "LinearSVC(C=1.0, class_weight=None, dual=True, fit_intercept=True,\n",
       "          intercept_scaling=1, loss='squared_hinge', max_iter=50000,\n",
       "          multi_class='ovr', penalty='l2', random_state=0, tol=1e-05,\n",
       "          verbose=0)"
      ]
     },
     "execution_count": 13,
     "metadata": {},
     "output_type": "execute_result"
    }
   ],
   "source": [
    "#SVM Training\n",
    "#stf = LinearSVC(random_state=0, tol=1e-5,dual=True,max_iter=50000,multi_class='ovr')\n",
    "#stf.fit(xtrain,ytrain)"
   ]
  },
  {
   "cell_type": "code",
   "execution_count": 9,
   "metadata": {},
   "outputs": [],
   "source": [
    "#testing dataset\n",
    "df2 = pd.read_csv('P1_testing_set.csv')\n",
    "e1t = df2['Event 1']\n",
    "e2t = df2['Event 2']\n",
    "labelt = df2['Label']"
   ]
  },
  {
   "cell_type": "code",
   "execution_count": 10,
   "metadata": {},
   "outputs": [],
   "source": [
    "#testing\n",
    "xtest = []\n",
    "ytest = []\n",
    "\n",
    "for i in range(e1t.size):\n",
    "    s1 = e1t.loc[i]\n",
    "    s2 = e2t.loc[i]\n",
    "    lab = labelt.loc[i]\n",
    "    vec1 = gen_vec(s1)\n",
    "    vec2 = gen_vec(s2)\n",
    "    vec = vec1.tolist()+vec2.tolist()\n",
    "    \n",
    "    xtest.append(vec)\n",
    "    ytest.append(lab)\n",
    "    \n",
    "xtest = np.array(xtest).astype(np.int32)\n",
    "ytest = np.array(ytest).astype(np.int32)"
   ]
  },
  {
   "cell_type": "code",
   "execution_count": 11,
   "metadata": {},
   "outputs": [
    {
     "name": "stdout",
     "output_type": "stream",
     "text": [
      "46.666666666666664\n"
     ]
    }
   ],
   "source": [
    "#Random Forrest Testing\n",
    "ypred = rfc.predict(xtest)\n",
    "print(rfc.score(xtest,ytest)*100)"
   ]
  },
  {
   "cell_type": "code",
   "execution_count": 13,
   "metadata": {},
   "outputs": [],
   "source": [
    "#SVM Testing\n",
    "#ypred = stf.predict(xtest)\n",
    "#print(stf.score(xtest,ytest)*100)"
   ]
  },
  {
   "cell_type": "code",
   "execution_count": 14,
   "metadata": {},
   "outputs": [
    {
     "name": "stdout",
     "output_type": "stream",
     "text": [
      "\n",
      " Confusion Matrix: \n",
      " [[  0  98  89]\n",
      " [  0 242 139]\n",
      " [  0 154 178]]\n",
      "\n",
      " Accuracy:  46.666666666666664\n"
     ]
    },
    {
     "name": "stderr",
     "output_type": "stream",
     "text": [
      "C:\\Users\\spradha5\\AppData\\Local\\Continuum\\anaconda3\\lib\\site-packages\\sklearn\\metrics\\classification.py:1437: UndefinedMetricWarning: Precision and F-score are ill-defined and being set to 0.0 in labels with no predicted samples.\n",
      "  'precision', 'predicted', average, warn_for)\n"
     ]
    },
    {
     "name": "stdout",
     "output_type": "stream",
     "text": [
      "\n",
      " Precision, Recall, F1-score: \n",
      "               precision    recall  f1-score   support\n",
      "\n",
      "           0       0.00      0.00      0.00       187\n",
      "           1       0.49      0.64      0.55       381\n",
      "           2       0.44      0.54      0.48       332\n",
      "\n",
      "    accuracy                           0.47       900\n",
      "   macro avg       0.31      0.39      0.35       900\n",
      "weighted avg       0.37      0.47      0.41       900\n",
      "\n"
     ]
    }
   ],
   "source": [
    "#Performance Metrics\n",
    "from sklearn.metrics import confusion_matrix\n",
    "from sklearn.metrics import accuracy_score\n",
    "from sklearn.metrics import classification_report\n",
    "\n",
    "print('\\n Confusion Matrix: \\n', confusion_matrix(ytest,ypred,labels=[0,1,2]))\n",
    "print('\\n Accuracy: ', accuracy_score(ytest,ypred)*100)\n",
    "print('\\n Precision, Recall, F1-score: \\n',classification_report(ytest,ypred))"
   ]
  },
  {
   "cell_type": "code",
   "execution_count": null,
   "metadata": {},
   "outputs": [],
   "source": []
  }
 ],
 "metadata": {
  "kernelspec": {
   "display_name": "Python 3",
   "language": "python",
   "name": "python3"
  },
  "language_info": {
   "codemirror_mode": {
    "name": "ipython",
    "version": 3
   },
   "file_extension": ".py",
   "mimetype": "text/x-python",
   "name": "python",
   "nbconvert_exporter": "python",
   "pygments_lexer": "ipython3",
   "version": "3.7.3"
  }
 },
 "nbformat": 4,
 "nbformat_minor": 2
}
